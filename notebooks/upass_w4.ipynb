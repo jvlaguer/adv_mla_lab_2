{
 "cells": [
  {
   "cell_type": "code",
   "execution_count": 1,
   "id": "2acd0464-0c8c-44f3-b4e7-7afc55e68a99",
   "metadata": {},
   "outputs": [
    {
     "name": "stdout",
     "output_type": "stream",
     "text": [
      "High Distinction\n"
     ]
    }
   ],
   "source": [
    "grade = 87\n",
    "\n",
    "if grade <= 50:\n",
    "    print('Fail')\n",
    "elif grade <= 64:\n",
    "    print('Pass')\n",
    "elif grade <= 74:\n",
    "    print('Credit')\n",
    "elif grade <= 85:\n",
    "    print('Distinction')\n",
    "else:\n",
    "    print('High Distinction')\n",
    "\n"
   ]
  },
  {
   "cell_type": "code",
   "execution_count": 5,
   "id": "68b7d662-0186-4888-9b8a-71ceb5d30323",
   "metadata": {},
   "outputs": [
    {
     "data": {
      "text/plain": [
       "[2, 61, 59, 21, 22, 50, 56, 63, 80, 86]"
      ]
     },
     "execution_count": 5,
     "metadata": {},
     "output_type": "execute_result"
    }
   ],
   "source": [
    "import random\n",
    " \n",
    "rand_list=[]\n",
    "n=10\n",
    "for i in range(n):\n",
    "    rand_list.append(random.randint(1,100))\n",
    "\n",
    "rand_list"
   ]
  },
  {
   "cell_type": "code",
   "execution_count": 6,
   "id": "fff0febd-16f1-42e6-84da-48b6bca3ee5c",
   "metadata": {},
   "outputs": [
    {
     "name": "stdout",
     "output_type": "stream",
     "text": [
      "Fail\n",
      "Pass\n",
      "Pass\n",
      "Fail\n",
      "Fail\n",
      "Fail\n",
      "Pass\n",
      "Pass\n",
      "Distinction\n",
      "High Distinction\n"
     ]
    }
   ],
   "source": [
    "for grade in rand_list:\n",
    "    if grade <= 50:\n",
    "        print('Fail')\n",
    "    elif grade <= 64:\n",
    "        print('Pass')\n",
    "    elif grade <= 74:\n",
    "        print('Credit')\n",
    "    elif grade <= 85:\n",
    "        print('Distinction')\n",
    "    else:\n",
    "        print('High Distinction')"
   ]
  },
  {
   "cell_type": "code",
   "execution_count": 15,
   "id": "6be016c3-9929-4c43-b61e-2fbb60262bdf",
   "metadata": {},
   "outputs": [],
   "source": [
    "rand_list_10k=[]\n",
    "n=10\n",
    "for i in range(n):\n",
    "    rand_list_10k.append(random.randint(1,100))"
   ]
  },
  {
   "cell_type": "code",
   "execution_count": 16,
   "id": "005e87b3-ea74-41c9-a813-f0c763db6241",
   "metadata": {},
   "outputs": [],
   "source": [
    "with open('grades.txt', 'w') as f:\n",
    "    for grade in rand_list_10k:\n",
    "        f.write(f\"{grade}\\n\")"
   ]
  },
  {
   "cell_type": "code",
   "execution_count": 33,
   "id": "4c3a1c57-b734-45e4-a0f0-5b467662d94c",
   "metadata": {},
   "outputs": [
    {
     "name": "stdout",
     "output_type": "stream",
     "text": [
      "Fail\n",
      "Pass\n",
      "Credit\n",
      "Fail\n",
      "Fail\n",
      "Pass\n",
      "Credit\n",
      "Fail\n",
      "Credit\n",
      "Pass\n"
     ]
    }
   ],
   "source": [
    "with open('grades.txt') as grades_file: \n",
    "    for grade in grades_file: \n",
    "        grade = int(grade)\n",
    "        if grade <= 50:\n",
    "            print('Fail')\n",
    "        elif grade <= 64:\n",
    "            print('Pass')\n",
    "        elif grade <= 74:\n",
    "            print('Credit')\n",
    "        elif grade <= 85:\n",
    "            print('Distinction')\n",
    "        else:\n",
    "            print('High Distinction')\n"
   ]
  },
  {
   "cell_type": "code",
   "execution_count": 1,
   "id": "7d7deab3-d933-4fbf-9512-c22bc86f6cc0",
   "metadata": {},
   "outputs": [
    {
     "data": {
      "text/plain": [
       "'16\\n54\\n70\\n24\\n29\\n64\\n67\\n15\\n74\\n55\\n'"
      ]
     },
     "execution_count": 1,
     "metadata": {},
     "output_type": "execute_result"
    }
   ],
   "source": [
    "import requests\n",
    "\n",
    "# target_url = 'https://raw.githubusercontent.com/jvlaguer/adv_mla_lab_2/main/notebooks/grades.txt'\n",
    "target_url = 'https://tinyurl.com/2ay29t5c'\n",
    "response = requests.get(target_url) \n",
    "data = response.text\n",
    "\n",
    "data"
   ]
  },
  {
   "cell_type": "code",
   "execution_count": 2,
   "id": "923366b9-e4fc-4df1-99c2-987a005a6d97",
   "metadata": {},
   "outputs": [
    {
     "name": "stdout",
     "output_type": "stream",
     "text": [
      "Fail\n",
      "Pass\n",
      "Credit\n",
      "Fail\n",
      "Fail\n",
      "Pass\n",
      "Credit\n",
      "Fail\n",
      "Credit\n",
      "Pass\n"
     ]
    }
   ],
   "source": [
    "grade_list = data.split('\\n')[0:-1]\n",
    "for grade in grade_list: \n",
    "    if int(grade) <= 50:\n",
    "        print('Fail')\n",
    "    elif int(grade) <= 64:\n",
    "        print('Pass')\n",
    "    elif int(grade) <= 74:\n",
    "        print('Credit')\n",
    "    elif int(grade) <= 85:\n",
    "        print('Distinction')\n",
    "    else:\n",
    "        print('High Distinction')\n"
   ]
  },
  {
   "cell_type": "code",
   "execution_count": 3,
   "id": "87e371a0-7d1c-4f22-b576-9c6a17b96030",
   "metadata": {},
   "outputs": [],
   "source": [
    "with open('grades_write.txt', 'w') as f:\n",
    "    for grade in grade_list:\n",
    "        f.write(f\"{grade}\\n\")"
   ]
  },
  {
   "cell_type": "code",
   "execution_count": 4,
   "id": "c5c49ce8-7ee7-49b2-bb22-d886d3162d27",
   "metadata": {},
   "outputs": [
    {
     "name": "stdout",
     "output_type": "stream",
     "text": [
      "16\n",
      "54\n",
      "70\n",
      "24\n",
      "29\n",
      "64\n",
      "67\n",
      "15\n",
      "74\n",
      "55\n"
     ]
    }
   ],
   "source": [
    "with open('grades_write.txt','r'):\n",
    "    for grade in grade_list:\n",
    "        print(grade)"
   ]
  },
  {
   "cell_type": "code",
   "execution_count": null,
   "id": "b1f021f5-ddcb-4768-bf9b-a2f4d9746411",
   "metadata": {},
   "outputs": [],
   "source": []
  }
 ],
 "metadata": {
  "kernelspec": {
   "display_name": "Python 3 (ipykernel)",
   "language": "python",
   "name": "python3"
  },
  "language_info": {
   "codemirror_mode": {
    "name": "ipython",
    "version": 3
   },
   "file_extension": ".py",
   "mimetype": "text/x-python",
   "name": "python",
   "nbconvert_exporter": "python",
   "pygments_lexer": "ipython3",
   "version": "3.11.4"
  }
 },
 "nbformat": 4,
 "nbformat_minor": 5
}

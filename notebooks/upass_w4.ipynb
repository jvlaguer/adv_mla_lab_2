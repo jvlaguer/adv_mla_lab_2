{
 "cells": [
  {
   "cell_type": "code",
   "execution_count": 1,
   "id": "2acd0464-0c8c-44f3-b4e7-7afc55e68a99",
   "metadata": {},
   "outputs": [
    {
     "name": "stdout",
     "output_type": "stream",
     "text": [
      "High Distinction\n"
     ]
    }
   ],
   "source": [
    "grade = 87\n",
    "\n",
    "if grade <= 50:\n",
    "    print('Fail')\n",
    "elif grade <= 64:\n",
    "    print('Pass')\n",
    "elif grade <= 74:\n",
    "    print('Credit')\n",
    "elif grade <= 85:\n",
    "    print('Distinction')\n",
    "else:\n",
    "    print('High Distinction')\n",
    "\n"
   ]
  },
  {
   "cell_type": "code",
   "execution_count": 5,
   "id": "68b7d662-0186-4888-9b8a-71ceb5d30323",
   "metadata": {},
   "outputs": [
    {
     "data": {
      "text/plain": [
       "[2, 61, 59, 21, 22, 50, 56, 63, 80, 86]"
      ]
     },
     "execution_count": 5,
     "metadata": {},
     "output_type": "execute_result"
    }
   ],
   "source": [
    "import random\n",
    " \n",
    "rand_list=[]\n",
    "n=10\n",
    "for i in range(n):\n",
    "    rand_list.append(random.randint(1,100))\n",
    "\n",
    "rand_list"
   ]
  },
  {
   "cell_type": "code",
   "execution_count": 6,
   "id": "fff0febd-16f1-42e6-84da-48b6bca3ee5c",
   "metadata": {},
   "outputs": [
    {
     "name": "stdout",
     "output_type": "stream",
     "text": [
      "Fail\n",
      "Pass\n",
      "Pass\n",
      "Fail\n",
      "Fail\n",
      "Fail\n",
      "Pass\n",
      "Pass\n",
      "Distinction\n",
      "High Distinction\n"
     ]
    }
   ],
   "source": [
    "for grade in rand_list:\n",
    "    if grade <= 50:\n",
    "        print('Fail')\n",
    "    elif grade <= 64:\n",
    "        print('Pass')\n",
    "    elif grade <= 74:\n",
    "        print('Credit')\n",
    "    elif grade <= 85:\n",
    "        print('Distinction')\n",
    "    else:\n",
    "        print('High Distinction')"
   ]
  },
  {
   "cell_type": "code",
   "execution_count": 15,
   "id": "6be016c3-9929-4c43-b61e-2fbb60262bdf",
   "metadata": {},
   "outputs": [],
   "source": [
    "rand_list_10k=[]\n",
    "n=10\n",
    "for i in range(n):\n",
    "    rand_list_10k.append(random.randint(1,100))"
   ]
  },
  {
   "cell_type": "code",
   "execution_count": 16,
   "id": "005e87b3-ea74-41c9-a813-f0c763db6241",
   "metadata": {},
   "outputs": [],
   "source": [
    "with open('grades.txt', 'w') as f:\n",
    "    for grade in rand_list_10k:\n",
    "        f.write(f\"{grade}\\n\")"
   ]
  },
  {
   "cell_type": "code",
   "execution_count": 21,
   "id": "4c3a1c57-b734-45e4-a0f0-5b467662d94c",
   "metadata": {},
   "outputs": [
    {
     "name": "stdout",
     "output_type": "stream",
     "text": [
      "Fail\n",
      "Pass\n",
      "Credit\n",
      "Fail\n",
      "Fail\n",
      "Pass\n",
      "Credit\n",
      "Fail\n",
      "Credit\n",
      "Pass\n"
     ]
    }
   ],
   "source": [
    "with open('grades.txt') as grades_file: \n",
    "    for grade in grades_file: \n",
    "        if int(grade) <= 50:\n",
    "            print('Fail')\n",
    "        elif int(grade) <= 64:\n",
    "            print('Pass')\n",
    "        elif int(grade) <= 74:\n",
    "            print('Credit')\n",
    "        elif int(grade) <= 85:\n",
    "            print('Distinction')\n",
    "        else:\n",
    "            print('High Distinction')\n"
   ]
  },
  {
   "cell_type": "code",
   "execution_count": null,
   "id": "7d7deab3-d933-4fbf-9512-c22bc86f6cc0",
   "metadata": {},
   "outputs": [],
   "source": []
  }
 ],
 "metadata": {
  "kernelspec": {
   "display_name": "Python 3 (ipykernel)",
   "language": "python",
   "name": "python3"
  },
  "language_info": {
   "codemirror_mode": {
    "name": "ipython",
    "version": 3
   },
   "file_extension": ".py",
   "mimetype": "text/x-python",
   "name": "python",
   "nbconvert_exporter": "python",
   "pygments_lexer": "ipython3",
   "version": "3.11.4"
  }
 },
 "nbformat": 4,
 "nbformat_minor": 5
}
